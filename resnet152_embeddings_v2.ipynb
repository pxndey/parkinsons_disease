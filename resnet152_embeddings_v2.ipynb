{
 "cells": [
  {
   "cell_type": "code",
   "execution_count": 1,
   "id": "60d935ca-b9d4-4849-8417-010519cb7623",
   "metadata": {
    "tags": []
   },
   "outputs": [
    {
     "name": "stdout",
     "output_type": "stream",
     "text": [
      "Loaded 51 healthy images and 51 parkinson images\n",
      "Image shape: (224, 224, 3)\n",
      "Number of classes: 2\n"
     ]
    }
   ],
   "source": [
    "import os\n",
    "import numpy as np\n",
    "from PIL import Image\n",
    "\n",
    "def load_images_from_folder(base_path):\n",
    "    datasets = {'healthy': {'images': [], 'labels': []},\n",
    "                'parkinson': {'images': [], 'labels': []}}\n",
    "    \n",
    "    for dataset in ['testing', 'training']:\n",
    "        dataset_path = os.path.join(base_path, 'spiral', dataset)\n",
    "        \n",
    "        for class_label, class_folder in enumerate(['healthy', 'parkinson']):\n",
    "            class_path = os.path.join(dataset_path, class_folder)\n",
    "            \n",
    "            if os.path.isdir(class_path):\n",
    "                for filename in os.listdir(class_path):\n",
    "                    img_path = os.path.join(class_path, filename)\n",
    "                    \n",
    "                    try:\n",
    "                        with Image.open(img_path) as img:\n",
    "                            img = img.convert('RGB')\n",
    "                            img = img.resize((224, 224))  # Adjust size as needed\n",
    "                            img_array = np.array(img)\n",
    "                            datasets[class_folder]['images'].append(img_array)\n",
    "                            datasets[class_folder]['labels'].append(class_label)\n",
    "                    except Exception as e:\n",
    "                        print(f\"Error loading image {img_path}: {e}\")\n",
    "    \n",
    "    # Convert lists to numpy arrays\n",
    "    for dataset in datasets:\n",
    "        datasets[dataset]['images'] = np.array(datasets[dataset]['images'])\n",
    "        datasets[dataset]['labels'] = np.array(datasets[dataset]['labels'])\n",
    "    \n",
    "    return datasets\n",
    "\n",
    "# Usage\n",
    "base_path = 'D:\\Projects\\Parkinsons_disease\\image_model\\data'\n",
    "datasets = load_images_from_folder(base_path)\n",
    "\n",
    "# Access healthy and parkinson data separately\n",
    "X_healthy, y_healthy = datasets['healthy']['images'], datasets['healthy']['labels']\n",
    "X_parkinson, y_parkinson = datasets['parkinson']['images'], datasets['parkinson']['labels']\n",
    "\n",
    "print(f\"Loaded {len(X_healthy)} healthy images and {len(X_parkinson)} parkinson images\")\n",
    "print(f\"Image shape: {X_healthy[0].shape}\")\n",
    "print(f\"Number of classes: {len(np.unique(np.concatenate([y_healthy, y_parkinson])))}\")"
   ]
  },
  {
   "cell_type": "code",
   "execution_count": 2,
   "id": "31586d6f-496b-4310-ac31-5e93eea20930",
   "metadata": {
    "tags": []
   },
   "outputs": [],
   "source": [
    "import glob\n",
    "# import imageio\n",
    "import matplotlib.pyplot as plt\n",
    "import numpy as np\n",
    "import os\n",
    "import PIL\n",
    "from tensorflow.keras import layers\n",
    "import time\n",
    "\n",
    "from IPython import display\n",
    "from skimage.transform import resize"
   ]
  },
  {
   "cell_type": "code",
   "execution_count": 3,
   "id": "6b23c3ac-988a-493f-9f40-8c730f339893",
   "metadata": {
    "tags": []
   },
   "outputs": [],
   "source": [
    "from sklearn.model_selection import train_test_split\n",
    "XX_healthy_train,X_healthy_test, yy_healthy_train,y_healthy_test = train_test_split(X_healthy,y_healthy,random_state=0,test_size=0.3)"
   ]
  },
  {
   "cell_type": "code",
   "execution_count": 4,
   "id": "6f3e9cea-4301-4b81-8787-2ffe490c4f87",
   "metadata": {
    "tags": []
   },
   "outputs": [],
   "source": [
    "from tensorflow.keras.applications import ResNet152\n",
    "import tensorflow as tf\n",
    "healthy_model = ResNet152(weights='imagenet',include_top=False)\n",
    "x = healthy_model.output\n",
    "healthy_embedding = tf.keras.layers.Flatten()(x)"
   ]
  },
  {
   "cell_type": "code",
   "execution_count": 5,
   "id": "9320f8b9-edfd-47ee-b4b1-fa00a6ddda9f",
   "metadata": {
    "tags": []
   },
   "outputs": [
    {
     "name": "stdout",
     "output_type": "stream",
     "text": [
      "2/2 [==============================] - 13s 844ms/step\n"
     ]
    }
   ],
   "source": [
    "healthy_embedding_model = tf.keras.models.Model(inputs=healthy_model.input, outputs=healthy_embedding)\n",
    "h_train_embed = healthy_embedding_model.predict(XX_healthy_train)"
   ]
  },
  {
   "cell_type": "code",
   "execution_count": 6,
   "id": "55a57760-135e-4b19-826a-0d8adb940c82",
   "metadata": {
    "tags": []
   },
   "outputs": [
    {
     "data": {
      "text/plain": [
       "(35, 100352)"
      ]
     },
     "execution_count": 6,
     "metadata": {},
     "output_type": "execute_result"
    }
   ],
   "source": [
    "h_train_embed.shape"
   ]
  },
  {
   "cell_type": "code",
   "execution_count": 7,
   "id": "37829884-f8d1-4959-8016-7b3cf98c9167",
   "metadata": {
    "tags": []
   },
   "outputs": [],
   "source": [
    "XX_parkinson_train, X_parkinson_test, yy_parkinson_train,y_parkinson_test = train_test_split(X_parkinson,y_parkinson,random_state=0,test_size=0.3)"
   ]
  },
  {
   "cell_type": "code",
   "execution_count": 8,
   "id": "7c1107d2-ef65-4aa6-87d1-d08213b02a88",
   "metadata": {
    "tags": []
   },
   "outputs": [
    {
     "name": "stdout",
     "output_type": "stream",
     "text": [
      "2/2 [==============================] - 12s 451ms/step\n"
     ]
    },
    {
     "data": {
      "text/plain": [
       "(35, 100352)"
      ]
     },
     "execution_count": 8,
     "metadata": {},
     "output_type": "execute_result"
    }
   ],
   "source": [
    "parkinson_model = ResNet152(weights='imagenet',include_top=False)\n",
    "x = parkinson_model.output\n",
    "parkinson_embedding = tf.keras.layers.Flatten()(x)\n",
    "parkinson_embedding_model = tf.keras.models.Model(inputs=parkinson_model.input, outputs=parkinson_embedding)\n",
    "p_train_embed = parkinson_embedding_model.predict(XX_parkinson_train)\n",
    "p_train_embed.shape"
   ]
  },
  {
   "cell_type": "code",
   "execution_count": 9,
   "id": "faca6a84-ce9f-4c65-8d40-1c20ba97eaa8",
   "metadata": {
    "tags": []
   },
   "outputs": [],
   "source": [
    "np.save('embeddings/healthy_embeddings_resnet152_v2.npy', h_train_embed)\n",
    "np.save('embeddings/parkinson_embeddings_resnet152_v2.npy', p_train_embed)"
   ]
  },
  {
   "cell_type": "code",
   "execution_count": 10,
   "id": "d2f588d1-ac10-4850-a029-937e7ccacc41",
   "metadata": {
    "tags": []
   },
   "outputs": [],
   "source": [
    "from sklearn.metrics.pairwise import cosine_similarity\n",
    "\n",
    "# Load saved embeddings\n",
    "embeddings_A = np.load('embeddings/healthy_embeddings_resnet152_v2.npy')\n",
    "embeddings_B = np.load('embeddings/parkinson_embeddings_resnet152_v2.npy')\n",
    "\n",
    "def classify_image(image):\n",
    "    embedding_A = healthy_embedding_model.predict(np.expand_dims(image, axis=0))\n",
    "    embedding_B = parkinson_embedding_model.predict(np.expand_dims(image, axis=0))\n",
    "    \n",
    "    # Compute similarity scores\n",
    "    sim_A = np.max(cosine_similarity(embedding_A, embeddings_A))\n",
    "    sim_B = np.max(cosine_similarity(embedding_B, embeddings_B))\n",
    "    \n",
    "    if sim_A > sim_B:\n",
    "        return 'healthy'\n",
    "    else:\n",
    "        return 'parkinson'"
   ]
  },
  {
   "cell_type": "code",
   "execution_count": 11,
   "id": "52fd4f3a-0515-4ab7-a766-e38cda80e677",
   "metadata": {
    "tags": []
   },
   "outputs": [
    {
     "name": "stdout",
     "output_type": "stream",
     "text": [
      "1/1 [==============================] - 0s 331ms/step\n",
      "1/1 [==============================] - 0s 335ms/step\n",
      "healthy\n"
     ]
    }
   ],
   "source": [
    "classified_label = classify_image(X_healthy_test[1])\n",
    "print(classified_label)"
   ]
  },
  {
   "cell_type": "code",
   "execution_count": 12,
   "id": "ad0f3ac6-e56e-4a0a-bacf-3dca9ea12d48",
   "metadata": {
    "tags": []
   },
   "outputs": [
    {
     "name": "stdout",
     "output_type": "stream",
     "text": [
      "1/1 [==============================] - 0s 312ms/step\n",
      "1/1 [==============================] - 0s 334ms/step\n",
      "parkinson\n"
     ]
    }
   ],
   "source": [
    "classified_label = classify_image(X_parkinson_test[1])\n",
    "print(classified_label)"
   ]
  },
  {
   "cell_type": "code",
   "execution_count": 13,
   "id": "fab13dfe-4a6d-4bf3-b9fe-69754e94ce58",
   "metadata": {
    "tags": []
   },
   "outputs": [],
   "source": [
    "def accuracy_score():\n",
    "    TP = 0\n",
    "    TN = 0\n",
    "    FP = 0\n",
    "    FN = 0\n",
    "    misclassified_healthy = []\n",
    "    misclassified_parkinson = []\n",
    "    for i in range(0,X_healthy_test.shape[0]):\n",
    "        if classify_image(X_healthy_test[i]) == 'healthy':\n",
    "            TP+=1\n",
    "        else:\n",
    "            FP+=1\n",
    "            misclassified_healthy.append(i)\n",
    "    for i in range(0,X_parkinson_test.shape[0]):\n",
    "        if classify_image(X_parkinson_test[i])=='parkinson':\n",
    "            TN+=1\n",
    "        else:\n",
    "            FN+=1\n",
    "            misclassified_parkinson.append(i)\n",
    "    return [TP,TN,FP,FN,misclassified_healthy,misclassified_parkinson]"
   ]
  },
  {
   "cell_type": "code",
   "execution_count": 14,
   "id": "44ad8bc3-c48d-4c2a-9e43-4b67e341b195",
   "metadata": {
    "tags": []
   },
   "outputs": [
    {
     "name": "stdout",
     "output_type": "stream",
     "text": [
      "1/1 [==============================] - 0s 314ms/step\n",
      "1/1 [==============================] - 0s 313ms/step\n",
      "1/1 [==============================] - 0s 326ms/step\n",
      "1/1 [==============================] - 0s 299ms/step\n",
      "1/1 [==============================] - 0s 281ms/step\n",
      "1/1 [==============================] - 0s 248ms/step\n",
      "1/1 [==============================] - 0s 268ms/step\n",
      "1/1 [==============================] - 0s 274ms/step\n",
      "1/1 [==============================] - 0s 282ms/step\n",
      "1/1 [==============================] - 0s 287ms/step\n",
      "1/1 [==============================] - 0s 273ms/step\n",
      "1/1 [==============================] - 0s 253ms/step\n",
      "1/1 [==============================] - 0s 276ms/step\n",
      "1/1 [==============================] - 0s 301ms/step\n",
      "1/1 [==============================] - 0s 326ms/step\n",
      "1/1 [==============================] - 0s 276ms/step\n",
      "1/1 [==============================] - 0s 285ms/step\n",
      "1/1 [==============================] - 0s 264ms/step\n",
      "1/1 [==============================] - 0s 288ms/step\n",
      "1/1 [==============================] - 0s 283ms/step\n",
      "1/1 [==============================] - 0s 263ms/step\n",
      "1/1 [==============================] - 0s 275ms/step\n",
      "1/1 [==============================] - 0s 263ms/step\n",
      "1/1 [==============================] - 0s 247ms/step\n",
      "1/1 [==============================] - 0s 276ms/step\n",
      "1/1 [==============================] - 0s 247ms/step\n",
      "1/1 [==============================] - 0s 283ms/step\n",
      "1/1 [==============================] - 0s 264ms/step\n",
      "1/1 [==============================] - 0s 245ms/step\n",
      "1/1 [==============================] - 0s 251ms/step\n",
      "1/1 [==============================] - 0s 324ms/step\n",
      "1/1 [==============================] - 0s 324ms/step\n",
      "1/1 [==============================] - 0s 286ms/step\n",
      "1/1 [==============================] - 0s 276ms/step\n",
      "1/1 [==============================] - 0s 257ms/step\n",
      "1/1 [==============================] - 0s 258ms/step\n",
      "1/1 [==============================] - 0s 266ms/step\n",
      "1/1 [==============================] - 0s 302ms/step\n",
      "1/1 [==============================] - 0s 286ms/step\n",
      "1/1 [==============================] - 0s 276ms/step\n",
      "1/1 [==============================] - 0s 266ms/step\n",
      "1/1 [==============================] - 0s 269ms/step\n",
      "1/1 [==============================] - 0s 269ms/step\n",
      "1/1 [==============================] - 0s 295ms/step\n",
      "1/1 [==============================] - 0s 266ms/step\n",
      "1/1 [==============================] - 0s 255ms/step\n",
      "1/1 [==============================] - 0s 248ms/step\n",
      "1/1 [==============================] - 0s 242ms/step\n",
      "1/1 [==============================] - 0s 248ms/step\n",
      "1/1 [==============================] - 0s 265ms/step\n",
      "1/1 [==============================] - 0s 261ms/step\n",
      "1/1 [==============================] - 0s 250ms/step\n",
      "1/1 [==============================] - 0s 253ms/step\n",
      "1/1 [==============================] - 0s 254ms/step\n",
      "1/1 [==============================] - 0s 263ms/step\n",
      "1/1 [==============================] - 0s 255ms/step\n",
      "1/1 [==============================] - 0s 261ms/step\n",
      "1/1 [==============================] - 0s 259ms/step\n",
      "1/1 [==============================] - 0s 247ms/step\n",
      "1/1 [==============================] - 0s 224ms/step\n",
      "1/1 [==============================] - 0s 234ms/step\n",
      "1/1 [==============================] - 0s 232ms/step\n",
      "1/1 [==============================] - 0s 232ms/step\n",
      "1/1 [==============================] - 0s 224ms/step\n"
     ]
    }
   ],
   "source": [
    "[TP,TN,FP,FN,misclassified_healthy,misclassified_parkinson] = accuracy_score()"
   ]
  },
  {
   "cell_type": "code",
   "execution_count": 15,
   "id": "a4342613-ea44-4773-b75f-d8539d21549e",
   "metadata": {
    "tags": []
   },
   "outputs": [
    {
     "name": "stdout",
     "output_type": "stream",
     "text": [
      "TP: 14\n",
      "FP: 2\n",
      "TN: 14\n",
      "FN: 2\n"
     ]
    }
   ],
   "source": [
    "print(f\"TP: {TP}\")\n",
    "print(f\"FP: {FP}\")\n",
    "print(f\"TN: {TN}\")\n",
    "print(f\"FN: {FN}\")"
   ]
  },
  {
   "cell_type": "code",
   "execution_count": 16,
   "id": "c44b5094-db99-4b78-8fec-538d096b6c0a",
   "metadata": {
    "tags": []
   },
   "outputs": [
    {
     "data": {
      "image/png": "[encoded data removed]",
      "text/plain": [
       "<Figure size 800x600 with 1 Axes>"
      ]
     },
     "metadata": {},
     "output_type": "display_data"
    }
   ],
   "source": [
    "import seaborn as sns\n",
    "confusion_matrix = np.array([[TP, FN],\n",
    "                                 [FP, TN]])\n",
    "plt.figure(figsize=(8, 6))\n",
    "sns.heatmap(confusion_matrix, annot=True, fmt='d', cmap='Blues', cbar=False,\n",
    "                xticklabels=['Predicted Positive', 'Predicted Negative'],\n",
    "                yticklabels=['Actual Positive', 'Actual Negative'])\n",
    "    \n",
    "plt.xlabel('Predicted')\n",
    "plt.ylabel('Actual')\n",
    "plt.title('Confusion Matrix')\n",
    "plt.show()"
   ]
  },
  {
   "cell_type": "code",
   "execution_count": null,
   "id": "6848118c-c433-48d0-b1da-78a25082bec6",
   "metadata": {},
   "outputs": [],
   "source": []
  }
 ],
 "metadata": {
  "kernelspec": {
   "display_name": "Python 3 (ipykernel)",
   "language": "python",
   "name": "python3"
  },
  "language_info": {
   "codemirror_mode": {
    "name": "ipython",
    "version": 3
   },
   "file_extension": ".py",
   "mimetype": "text/x-python",
   "name": "python",
   "nbconvert_exporter": "python",
   "pygments_lexer": "ipython3",
   "version": "3.9.17"
  }
 },
 "nbformat": 4,
 "nbformat_minor": 5
}
